{
 "cells": [
  {
   "cell_type": "markdown",
   "id": "baff1524",
   "metadata": {},
   "source": [
    "# Final Report\n",
    "*The begining of the end of the Coursera Capstone Project by IBM*"
   ]
  },
  {
   "cell_type": "markdown",
   "id": "4d0e347a",
   "metadata": {},
   "source": [
    "#### **A description of the problem and a discussion of the background. (15 marks)**"
   ]
  },
  {
   "cell_type": "markdown",
   "id": "6ad60cd8",
   "metadata": {},
   "source": [
    "Austin, Texas is one of the fastest growing cities in America, and for good reason.  In addition to its iconic venues and beautiful landscapes it’s also home to some of the world’s leading and fastest growing tech corporations, even earning the nickname of Silicon Hills.  Because of this, many aspiring techies from all over the country find themselves among the people looking to Austin for a new home.  \n",
    "\n",
    "There are a lot of things to consider when moving to a new city, especially one as large and diverse as Austin.  In the interests of the Austin Chamber of Commerce, the Austin Visitors and Convention Bureau, and the Austin Technology Council, let’s take a look at some of the best neighborhoods in Austin for techies to land in when they land their job. "
   ]
  },
  {
   "cell_type": "markdown",
   "id": "8eba81c8",
   "metadata": {},
   "source": [
    "#### **A description of the data and how it will be used to solve the problem. (15 marks)**"
   ]
  },
  {
   "cell_type": "markdown",
   "id": "a7ed56fb",
   "metadata": {},
   "source": [
    "“List of Austin Zip Codes”\n",
    "<br>\n",
    "(https://www.zip-codes.com/city/tx-austin.asp#zipcodes)\n",
    "<br>\n",
    "Using only the Zip Codes for residential areas, to group neighborhoods by their geographical location.  \n",
    " \n",
    "“List of Broadband Internet Providers by geographic region”\n",
    "<br>\n",
    "(http://broadbandmap.fcc.gov/#/data-download)\n",
    "<br>\n",
    "Merging the geographic information on this table with the zip codes in Austin to find what areas have access to the infrastructure for the high speed internet needed for tech focused lifestyles.  \n",
    " \n",
    "“Major Employers in Austin”\n",
    "<br>\n",
    "(https://www.austinchamber.com/economic-development/austin-profile/major-employers)  \n",
    "<br>\n",
    "Mapping their locations for judging accessibility  \n",
    "\n",
    "Foursquare Location Data\n",
    " - Determine what level of transportation is required for a given residential area\n",
    "    - *What areas are walkable (contain grocery stores, entertainment, and places of work within walking distance)*\n",
    "    - *What areas have easy access to the major highways*\n"
   ]
  },
  {
   "cell_type": "code",
   "execution_count": null,
   "id": "a396383a",
   "metadata": {},
   "outputs": [],
   "source": []
  }
 ],
 "metadata": {
  "kernelspec": {
   "display_name": "Python 3",
   "language": "python",
   "name": "python3"
  },
  "language_info": {
   "codemirror_mode": {
    "name": "ipython",
    "version": 3
   },
   "file_extension": ".py",
   "mimetype": "text/x-python",
   "name": "python",
   "nbconvert_exporter": "python",
   "pygments_lexer": "ipython3",
   "version": "3.9.4"
  }
 },
 "nbformat": 4,
 "nbformat_minor": 5
}
