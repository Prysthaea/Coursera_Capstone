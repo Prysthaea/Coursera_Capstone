{
    "cells": [
        {
            "cell_type": "markdown",
            "metadata": {
                "collapsed": true
            },
            "source": "# Week 3 Assignment: Segmenting and Clustering Neighborhoods in Toronto"
        },
        {
            "cell_type": "markdown",
            "metadata": {},
            "source": "First, the imports:\n- Pandas for database management\n- Requests to scrape the webpage\n- BeutifulSoup to navigate the html"
        },
        {
            "cell_type": "code",
            "execution_count": 7,
            "metadata": {},
            "outputs": [],
            "source": "import pandas as pd\npd.options.display.max_rows = 200\nimport requests\nfrom bs4 import BeautifulSoup"
        },
        {
            "cell_type": "markdown",
            "metadata": {},
            "source": "The web page used claims to contain a table with every postal code in Toronto, making it perfect for our needs. \n*Unfortunately, I had no easy way to verify it's accuracy, so the following lab assumes the Wikipedia article remains accurate*"
        },
        {
            "cell_type": "code",
            "execution_count": 8,
            "metadata": {},
            "outputs": [],
            "source": "url = 'https://en.wikipedia.org/wiki/List_of_postal_codes_of_Canada:_M'\n\nhtml_data = requests.get(url).text\n\ntoronto_soup = BeautifulSoup(html_data,\"html5lib\")"
        },
        {
            "cell_type": "markdown",
            "metadata": {},
            "source": "The url is scraped using ```requests.get``` and formatted as a BeautifulSoup object, which makes it possible to identify the tables in the html using ```soup.find_all('table')```"
        },
        {
            "cell_type": "code",
            "execution_count": 9,
            "metadata": {},
            "outputs": [
                {
                    "data": {
                        "text/plain": "3"
                    },
                    "execution_count": 9,
                    "metadata": {},
                    "output_type": "execute_result"
                }
            ],
            "source": "toronto_tables = toronto_soup.find_all('table')\nlen(toronto_tables)"
        },
        {
            "cell_type": "markdown",
            "metadata": {},
            "source": "Since there were only 3 tables, finding the correct one manually was easier than writing a code loop. This was done by skimming the results of:  \n\n```print(toronto_tables[n].prettify())``` for ```0```, ```1```, and ```2```  \n\nTable 0 contains the neighborhood data"
        },
        {
            "cell_type": "code",
            "execution_count": 10,
            "metadata": {},
            "outputs": [],
            "source": "neigh_table = toronto_tables[0]"
        },
        {
            "cell_type": "markdown",
            "metadata": {},
            "source": "### Creating and Cleaning the Dataframe\nNow that we have the proper table, the following cells serve to enter the data into the Pandas dataframe in the desired form.  This notebook assumes that the first 3 non-whitespace characters of every cell make up the postal code, and that the neighborhoods are always separated from the borough by an open parenthesis '(' \n\n***Further details regarding the reformatting are explained in comments in the code below***"
        },
        {
            "cell_type": "code",
            "execution_count": 11,
            "metadata": {},
            "outputs": [],
            "source": "# I create the dataframe with the named columns, it's empty for now\nneigh_df = pd.DataFrame(columns=['PostalCode', 'Borough', 'Neighborhood'])\nneigh_df\n\n# loop through all of the data cells in the table and populate the dataframe\nfor cell in neigh_table.find_all('td'):\n    text = cell.text.strip()\n    # Skip any cells that aren't assigned\n    if 'Not assigned' not in text:\n        # The postal codes are always the first 3 characters of the cell, this make it easy to split off using slicing \n        postalcode = text[0:3]\n        \n        # The remainder of the text has to be split along the opening parenthesis, and then the neighborhoods have to be reformatted\n        other = text[3:].split('(')\n        borough = other[0]\n        neighborhood = (((other[1].strip(')')).replace(' /',',')).replace(')',' ')).strip(' ')\n        neigh_df = neigh_df.append({'PostalCode': postalcode,\n                                    'Borough': borough,\n                                    'Neighborhood': neighborhood}, ignore_index=True)\n"
        },
        {
            "cell_type": "code",
            "execution_count": 12,
            "metadata": {},
            "outputs": [
                {
                    "data": {
                        "text/plain": "North York                                                      24\nDowntown Toronto                                                17\nScarborough                                                     17\nEtobicoke                                                       11\nCentral Toronto                                                  9\nWest Toronto                                                     6\nYork                                                             5\nEast Toronto                                                     4\nEast York                                                        4\nDowntown TorontoStn A PO Boxes25 The Esplanade                   1\nEast YorkEast Toronto                                            1\nMississaugaCanada Post Gateway Processing Centre                 1\nEtobicokeNorthwest                                               1\nEast TorontoBusiness reply mail Processing Centre969 Eastern     1\nQueen's Park                                                     1\nName: Borough, dtype: int64"
                    },
                    "execution_count": 12,
                    "metadata": {},
                    "output_type": "execute_result"
                }
            ],
            "source": "neigh_df['Borough'].value_counts()"
        },
        {
            "cell_type": "code",
            "execution_count": 13,
            "metadata": {},
            "outputs": [
                {
                    "data": {
                        "text/plain": "North York                24\nDowntown Toronto          17\nScarborough               17\nEtobicoke                 11\nCentral Toronto            9\nWest Toronto               6\nYork                       5\nEast Toronto               4\nEast York                  4\nMississauga                1\nEast York/East Toronto     1\nEtobicoke Northwest        1\nDowntown Toronto Stn A     1\nQueen's Park               1\nEast Toronto Business      1\nName: Borough, dtype: int64"
                    },
                    "execution_count": 13,
                    "metadata": {},
                    "output_type": "execute_result"
                }
            ],
            "source": "# There are a handful of Boroughs that didn't get proccessed properly, so let's fix them\nneigh_df['Borough']=neigh_df['Borough'].replace({'MississaugaCanada Post Gateway Processing Centre':'Mississauga',\n                                                 'EtobicokeNorthwest':'Etobicoke Northwest',\n                                                 'East YorkEast Toronto':'East York/East Toronto',\n                                                 'Downtown TorontoStn A PO Boxes25 The Esplanade':'Downtown Toronto Stn A',\n                                                 'East TorontoBusiness reply mail Processing Centre969 Eastern':'East Toronto Business',\n                                                 })\nneigh_df['Borough'].value_counts()"
        },
        {
            "cell_type": "markdown",
            "metadata": {},
            "source": "### The Dataframe should now be complete! Lets take a look"
        },
        {
            "cell_type": "code",
            "execution_count": 14,
            "metadata": {},
            "outputs": [
                {
                    "data": {
                        "text/html": "<div>\n<style scoped>\n    .dataframe tbody tr th:only-of-type {\n        vertical-align: middle;\n    }\n\n    .dataframe tbody tr th {\n        vertical-align: top;\n    }\n\n    .dataframe thead th {\n        text-align: right;\n    }\n</style>\n<table border=\"1\" class=\"dataframe\">\n  <thead>\n    <tr style=\"text-align: right;\">\n      <th></th>\n      <th>PostalCode</th>\n      <th>Borough</th>\n      <th>Neighborhood</th>\n    </tr>\n  </thead>\n  <tbody>\n    <tr>\n      <th>0</th>\n      <td>M3A</td>\n      <td>North York</td>\n      <td>Parkwoods</td>\n    </tr>\n    <tr>\n      <th>1</th>\n      <td>M4A</td>\n      <td>North York</td>\n      <td>Victoria Village</td>\n    </tr>\n    <tr>\n      <th>2</th>\n      <td>M5A</td>\n      <td>Downtown Toronto</td>\n      <td>Regent Park, Harbourfront</td>\n    </tr>\n    <tr>\n      <th>3</th>\n      <td>M6A</td>\n      <td>North York</td>\n      <td>Lawrence Manor, Lawrence Heights</td>\n    </tr>\n    <tr>\n      <th>4</th>\n      <td>M7A</td>\n      <td>Queen's Park</td>\n      <td>Ontario Provincial Government</td>\n    </tr>\n  </tbody>\n</table>\n</div>",
                        "text/plain": "  PostalCode           Borough                      Neighborhood\n0        M3A        North York                         Parkwoods\n1        M4A        North York                  Victoria Village\n2        M5A  Downtown Toronto         Regent Park, Harbourfront\n3        M6A        North York  Lawrence Manor, Lawrence Heights\n4        M7A      Queen's Park     Ontario Provincial Government"
                    },
                    "execution_count": 14,
                    "metadata": {},
                    "output_type": "execute_result"
                }
            ],
            "source": "neigh_df.head()"
        },
        {
            "cell_type": "code",
            "execution_count": 16,
            "metadata": {},
            "outputs": [
                {
                    "data": {
                        "text/plain": "(103, 3)"
                    },
                    "execution_count": 16,
                    "metadata": {},
                    "output_type": "execute_result"
                }
            ],
            "source": "neigh_df.shape"
        }
    ],
    "metadata": {
        "kernelspec": {
            "display_name": "Python 3.7",
            "language": "python",
            "name": "python3"
        },
        "language_info": {
            "codemirror_mode": {
                "name": "ipython",
                "version": 3
            },
            "file_extension": ".py",
            "mimetype": "text/x-python",
            "name": "python",
            "nbconvert_exporter": "python",
            "pygments_lexer": "ipython3",
            "version": "3.7.10"
        }
    },
    "nbformat": 4,
    "nbformat_minor": 1
}